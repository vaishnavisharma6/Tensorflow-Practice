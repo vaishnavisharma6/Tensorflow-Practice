{
  "nbformat": 4,
  "nbformat_minor": 0,
  "metadata": {
    "colab": {
      "provenance": [],
      "authorship_tag": "ABX9TyNIlc3T+5jK1KYZx+BVbEPI",
      "include_colab_link": true
    },
    "kernelspec": {
      "name": "python3",
      "display_name": "Python 3"
    },
    "language_info": {
      "name": "python"
    }
  },
  "cells": [
    {
      "cell_type": "markdown",
      "metadata": {
        "id": "view-in-github",
        "colab_type": "text"
      },
      "source": [
        "<a href=\"https://colab.research.google.com/github/vaishnavisharma6/Tensorflow-Practice/blob/main/ODE_using_PINNs.ipynb\" target=\"_parent\"><img src=\"https://colab.research.google.com/assets/colab-badge.svg\" alt=\"Open In Colab\"/></a>"
      ]
    },
    {
      "cell_type": "markdown",
      "source": [
        "## Solution of a 2 point boundary value problem using Physics informed Neural Network approach\n",
        "\n",
        "Given a boundary value problem:\n",
        "$$\n",
        "- \\frac{d^{2}u}{dx^{2}} = - e ^{(x-1)},    \\qquad x \\in (0,1)\n",
        "$$\n",
        "subject to the conditions:\n",
        "$$\n",
        "u(0) = a = 0, \\qquad \\frac{du}{dx} = b = 1 ,\\qquad x = 1\n",
        "$$\n",
        "\n",
        "We will solve this differential equation by training a neural network in which loss function will be defined in such a manner that when it is minimized, equation is satisfied automatically.\n",
        "\n"
      ],
      "metadata": {
        "id": "xkO-cgfomBO6"
      }
    },
    {
      "cell_type": "code",
      "execution_count": 18,
      "metadata": {
        "id": "PZZnVFmb6-GQ"
      },
      "outputs": [],
      "source": [
        "import os\n",
        "from IPython.display import clear_output\n",
        "import tensorflow as tf\n",
        "from tensorflow import keras\n",
        "from tensorflow.keras.models import Sequential\n",
        "from tensorflow.keras.layers import Dense\n",
        "import numpy as np\n",
        "import random\n",
        "import matplotlib.pyplot as plt"
      ]
    },
    {
      "cell_type": "code",
      "source": [
        "# Model architecture\n",
        "def NN():\n",
        "  model = Sequential()\n",
        "  model.add(Dense(512, input_shape = (1,), activation = 'relu'))\n",
        "  model.add(Dense(256, activation = 'relu' ))\n",
        "  model.add(Dense(1))\n",
        "\n",
        "  return model"
      ],
      "metadata": {
        "id": "AE3-mm4Lt_ff"
      },
      "execution_count": 19,
      "outputs": []
    },
    {
      "cell_type": "code",
      "source": [
        "# Define loss function\n",
        "def lossfunc(x, model):\n",
        "  \n",
        "  with tf.GradientTape() as t1:\n",
        "    t1.watch(x)\n",
        "    with tf.GradientTape() as t2:\n",
        "      t2.watch(x)\n",
        "      u = model(x)\n",
        "      loss_res = np.exp(x-1)\n",
        "      loss_bnd = u[0,0]**2 \n",
        "    dudx = t2.gradient(u,x)\n",
        "    loss_bnd += (dudx[-1,0] - 1)**2\n",
        "  du2dx2 = t1.gradient(dudx, x)\n",
        "  loss_res += -1 * du2dx2\n",
        "  loss_res = tf.reduce_mean(tf.square(loss_res))\n",
        "\n",
        "  return  loss_res, loss_bnd"
      ],
      "metadata": {
        "id": "GY10436LycIO"
      },
      "execution_count": 20,
      "outputs": []
    },
    {
      "cell_type": "code",
      "source": [
        "def train(x, lb, epochs):\n",
        "  res_loss_loc = np.zeros(epochs)\n",
        "  bnd_loss_loc = np.zeros(epochs)\n",
        "  loss_loc = np.zeros(epochs)\n",
        "\n",
        "  tf.keras.backend.clear_session()\n",
        "  model = NN()\n",
        "  optimizer = keras.optimizers.Adam()\n",
        "\n",
        "  for epoch in range(epochs):\n",
        "    with tf.GradientTape() as tape:\n",
        "      loss_res, loss_bnd = lossfunc(x = x, model = model)\n",
        "      loss = loss_res + (lb * loss_bnd)\n",
        "      loss += sum(model.losses)\n",
        "    grads = tape.gradient(loss, model.trainable_variables)\n",
        "    optimizer.apply_gradients(zip(grads, model.trainable_variables))\n",
        "    res_loss_loc[epoch] = loss_res.numpy()\n",
        "    bnd_loss_loc[epoch] = loss_bnd.numpy()\n",
        "    loss_loc[epoch] = loss.numpy()\n",
        "\n",
        "  return  res_loss_loc, bnd_loss_loc, loss_loc, model  \n"
      ],
      "metadata": {
        "id": "FrdDSTiLHGRQ"
      },
      "execution_count": 21,
      "outputs": []
    },
    {
      "cell_type": "code",
      "source": [
        "epochs = 2000\n",
        "N =100\n",
        "x = tf.cast(tf.reshape(tf.linspace(0,1,N), (-1,1)), tf.float32)\n",
        "lb = 1000.0\n",
        "\n",
        "res_loss, bnd_loss, loss, model = train(x, lb, epochs)\n",
        "y = model.predict(x)\n",
        "print(f\" loss_res : {res_loss[-1]}, loss_bnd : {bnd_loss[-1]}, loss_total: {loss[-1]}\") "
      ],
      "metadata": {
        "colab": {
          "base_uri": "https://localhost:8080/"
        },
        "id": "ej0unGJiN9PT",
        "outputId": "dd3b8e8d-3c7b-4078-dfd4-7d118347f969"
      },
      "execution_count": 23,
      "outputs": [
        {
          "output_type": "stream",
          "name": "stdout",
          "text": [
            "4/4 [==============================] - 0s 4ms/step\n",
            " loss_res : 0.4337002635002136, loss_bnd : 0.0, loss_total: 0.4337002635002136\n"
          ]
        }
      ]
    },
    {
      "cell_type": "code",
      "source": [],
      "metadata": {
        "id": "ST3IXx3imQua"
      },
      "execution_count": 11,
      "outputs": []
    }
  ]
}